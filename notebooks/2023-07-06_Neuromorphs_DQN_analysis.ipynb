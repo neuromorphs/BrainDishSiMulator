{
 "cells": [
  {
   "cell_type": "code",
   "execution_count": 1,
   "id": "8f6105cf",
   "metadata": {},
   "outputs": [],
   "source": [
    "import numpy as np\n",
    "import matplotlib.pyplot as plt\n",
    "import json\n",
    "import seaborn as sns\n",
    "import os\n",
    "import pandas as pd"
   ]
  },
  {
   "cell_type": "markdown",
   "id": "ee519146",
   "metadata": {},
   "source": [
    "# Data exploration"
   ]
  },
  {
   "cell_type": "markdown",
   "id": "3fb92804",
   "metadata": {},
   "source": [
    "We first load the data. As an example, we select the first data point and normalize the 70 epochs over 20 minutes."
   ]
  },
  {
   "cell_type": "code",
   "execution_count": 8,
   "id": "38195a49",
   "metadata": {},
   "outputs": [
    {
     "name": "stdout",
     "output_type": "stream",
     "text": [
      "['../code/games/pong/results_demo/Simon/BALL_SPEED_1.0/event_recording-1689280746.6048787.json']\n"
     ]
    }
   ],
   "source": [
    "result_dir = \"../code/games/pong/results_demo/Simon/BALL_SPEED_1.0/\"\n",
    "simulations = [os.path.join(result_dir, x) for x in os.listdir(result_dir)]\n",
    "print(simulations)"
   ]
  },
  {
   "cell_type": "code",
   "execution_count": 9,
   "id": "bd15079c",
   "metadata": {},
   "outputs": [],
   "source": [
    "min20 = 20*60"
   ]
  },
  {
   "cell_type": "code",
   "execution_count": 10,
   "id": "624ece36",
   "metadata": {},
   "outputs": [],
   "source": [
    "def get_simulation_results(simulation):\n",
    "    with open(simulation,\"r\") as f:\n",
    "        data_point = json.load(f)\n",
    "\n",
    "        simulation_results = data_point[1:]\n",
    "\n",
    "\n",
    "        scale = min20/simulation_results[-1]['norm_timestamp']\n",
    "        # normalize time\n",
    "        for i in range(len(simulation_results)):\n",
    "            simulation_results[i][\"scaled_time\"] = simulation_results[i][\"norm_timestamp\"]*scale\n",
    "    return simulation_results"
   ]
  },
  {
   "cell_type": "code",
   "execution_count": 11,
   "id": "8aed11f5",
   "metadata": {},
   "outputs": [],
   "source": [
    "simulation_results = get_simulation_results(simulations[0])"
   ]
  },
  {
   "cell_type": "markdown",
   "id": "8a065adf",
   "metadata": {},
   "source": [
    "Now, divide the actions per minutes, in order to obtain the statistics per minute."
   ]
  },
  {
   "cell_type": "code",
   "execution_count": 12,
   "id": "545b4ada",
   "metadata": {},
   "outputs": [
    {
     "name": "stdout",
     "output_type": "stream",
     "text": [
      "Number of minutes: 20\n"
     ]
    }
   ],
   "source": [
    "# per minute splits \n",
    "def split_per_minute(simulation_results):\n",
    "    minutes_recordings = []\n",
    "    j = 0\n",
    "    for i in range(60, 1201, 60):\n",
    "\n",
    "        per_minute_recordings = []\n",
    "\n",
    "        for s in simulation_results:\n",
    "            if s[\"scaled_time\"]>i-60 and s[\"scaled_time\"]<=i:\n",
    "                per_minute_recordings.append(s)\n",
    "                j+=1\n",
    "\n",
    "        minutes_recordings.append(per_minute_recordings)\n",
    "\n",
    "    return minutes_recordings\n",
    "    \n",
    "minutes_recordings = split_per_minute(simulation_results)\n",
    "print(\"Number of minutes:\", len(minutes_recordings))"
   ]
  },
  {
   "cell_type": "markdown",
   "id": "93470666",
   "metadata": {},
   "source": [
    "Let's explore the data for the 2nd minute (between 60 and 120 seconds):"
   ]
  },
  {
   "cell_type": "code",
   "execution_count": 13,
   "id": "ca7cefe3",
   "metadata": {},
   "outputs": [
    {
     "data": {
      "text/plain": [
       "[{'norm_timestamp': 11.242967128753662,\n",
       "  'event': 'ball bounce',\n",
       "  'scaled_time': 60.54154748695727},\n",
       " {'norm_timestamp': 11.339832782745361,\n",
       "  'event': 'ball bounce',\n",
       "  'scaled_time': 61.06315326271335},\n",
       " {'norm_timestamp': 11.351291418075562,\n",
       "  'event': 'ball return',\n",
       "  'scaled_time': 61.124856148351505},\n",
       " {'norm_timestamp': 11.454958438873291,\n",
       "  'event': 'ball bounce',\n",
       "  'scaled_time': 61.68308617700701},\n",
       " {'norm_timestamp': 11.558073282241821,\n",
       "  'event': 'ball return',\n",
       "  'scaled_time': 62.23834282010796},\n",
       " {'norm_timestamp': 11.658407926559448,\n",
       "  'event': 'ball bounce',\n",
       "  'scaled_time': 62.77862854397238},\n",
       " {'norm_timestamp': 11.669171571731567,\n",
       "  'event': 'ball bounce',\n",
       "  'scaled_time': 62.836589020762716},\n",
       " {'norm_timestamp': 11.778896808624268,\n",
       "  'event': 'ball return',\n",
       "  'scaled_time': 63.427441556733214},\n",
       " {'norm_timestamp': 11.891107559204102,\n",
       "  'event': 'ball bounce',\n",
       "  'scaled_time': 64.03167817923494},\n",
       " {'norm_timestamp': 11.985353946685791,\n",
       "  'event': 'ball bounce',\n",
       "  'scaled_time': 64.53917963128531},\n",
       " {'norm_timestamp': 11.996357202529907,\n",
       "  'event': 'ball return',\n",
       "  'scaled_time': 64.5984303725326},\n",
       " {'norm_timestamp': 12.09978985786438,\n",
       "  'event': 'ball bounce',\n",
       "  'scaled_time': 65.15539838132622},\n",
       " {'norm_timestamp': 12.202731847763062,\n",
       "  'event': 'ball return',\n",
       "  'scaled_time': 65.70972423663483},\n",
       " {'norm_timestamp': 12.299027919769287,\n",
       "  'event': 'ball bounce',\n",
       "  'scaled_time': 66.22826290613449},\n",
       " {'norm_timestamp': 12.310068130493164,\n",
       "  'event': 'ball bounce',\n",
       "  'scaled_time': 66.28771264339257},\n",
       " {'norm_timestamp': 12.420196294784546,\n",
       "  'event': 'ball return',\n",
       "  'scaled_time': 66.88073487780315},\n",
       " {'norm_timestamp': 12.540270328521729,\n",
       "  'event': 'ball bounce',\n",
       "  'scaled_time': 67.52731399986236},\n",
       " {'norm_timestamp': 12.659088850021362,\n",
       "  'event': 'ball bounce',\n",
       "  'scaled_time': 68.16713239293611},\n",
       " {'norm_timestamp': 12.67109203338623,\n",
       "  'event': 'ball return',\n",
       "  'scaled_time': 68.23176758108144},\n",
       " {'norm_timestamp': 12.787430047988892,\n",
       "  'event': 'ball bounce',\n",
       "  'scaled_time': 68.8582288483738},\n",
       " {'norm_timestamp': 12.905616760253906,\n",
       "  'event': 'ball return',\n",
       "  'scaled_time': 69.49464505158589},\n",
       " {'norm_timestamp': 13.00780725479126,\n",
       "  'event': 'ball bounce',\n",
       "  'scaled_time': 70.04492422672696},\n",
       " {'norm_timestamp': 13.01880955696106,\n",
       "  'event': 'ball bounce',\n",
       "  'scaled_time': 70.10416983259334},\n",
       " {'norm_timestamp': 13.139928579330444,\n",
       "  'event': 'ball return',\n",
       "  'scaled_time': 70.75637604829922},\n",
       " {'norm_timestamp': 13.252108812332153,\n",
       "  'event': 'ball bounce',\n",
       "  'scaled_time': 71.3604483386114},\n",
       " {'norm_timestamp': 13.351376056671143,\n",
       "  'event': 'ball bounce',\n",
       "  'scaled_time': 71.89498628737748},\n",
       " {'norm_timestamp': 13.362378358840942,\n",
       "  'event': 'ball return',\n",
       "  'scaled_time': 71.95423189324386},\n",
       " {'norm_timestamp': 13.482906103134155,\n",
       "  'event': 'ball bounce',\n",
       "  'scaled_time': 72.60325417277731},\n",
       " {'norm_timestamp': 13.592844009399414,\n",
       "  'event': 'ball return',\n",
       "  'scaled_time': 73.1952518986937},\n",
       " {'norm_timestamp': 13.687604904174805,\n",
       "  'event': 'ball bounce',\n",
       "  'scaled_time': 73.70552388875214},\n",
       " {'norm_timestamp': 13.699955224990845,\n",
       "  'event': 'ball bounce',\n",
       "  'scaled_time': 73.77202835555354},\n",
       " {'norm_timestamp': 13.811302423477173,\n",
       "  'event': 'ball return',\n",
       "  'scaled_time': 74.37161489062927},\n",
       " {'norm_timestamp': 13.925435304641724,\n",
       "  'event': 'ball bounce',\n",
       "  'scaled_time': 74.98620187338183},\n",
       " {'norm_timestamp': 14.04236912727356,\n",
       "  'event': 'ball bounce',\n",
       "  'scaled_time': 75.615871469906},\n",
       " {'norm_timestamp': 14.057976007461548,\n",
       "  'event': 'ball return',\n",
       "  'scaled_time': 75.69991197871508},\n",
       " {'norm_timestamp': 14.17970895767212,\n",
       "  'event': 'ball bounce',\n",
       "  'scaled_time': 76.3554240958903},\n",
       " {'norm_timestamp': 14.292376279830933,\n",
       "  'event': 'ball return',\n",
       "  'scaled_time': 76.96211928200904},\n",
       " {'norm_timestamp': 14.39820909500122,\n",
       "  'event': 'ball bounce',\n",
       "  'scaled_time': 77.53201176074127},\n",
       " {'norm_timestamp': 14.411365509033203,\n",
       "  'event': 'ball bounce',\n",
       "  'scaled_time': 77.60285690826805},\n",
       " {'norm_timestamp': 14.523707151412964,\n",
       "  'event': 'ball return',\n",
       "  'scaled_time': 78.20779836180151},\n",
       " {'norm_timestamp': 14.643043518066406,\n",
       "  'event': 'ball bounce',\n",
       "  'scaled_time': 78.85040526671658},\n",
       " {'norm_timestamp': 14.74418592453003,\n",
       "  'event': 'ball bounce',\n",
       "  'scaled_time': 79.39504065822301},\n",
       " {'norm_timestamp': 14.756382703781128,\n",
       "  'event': 'ball return',\n",
       "  'scaled_time': 79.46071832869576},\n",
       " {'norm_timestamp': 14.872769117355347,\n",
       "  'event': 'ball bounce',\n",
       "  'scaled_time': 80.08744021656997},\n",
       " {'norm_timestamp': 14.985072135925293,\n",
       "  'event': 'ball return',\n",
       "  'scaled_time': 80.69217368717604},\n",
       " {'norm_timestamp': 15.08531641960144,\n",
       "  'event': 'ball bounce',\n",
       "  'scaled_time': 81.23197283369798},\n",
       " {'norm_timestamp': 15.096320152282715,\n",
       "  'event': 'ball bounce',\n",
       "  'scaled_time': 81.29122614263574},\n",
       " {'norm_timestamp': 15.208892107009888,\n",
       "  'event': 'ball return',\n",
       "  'scaled_time': 81.89740779066216},\n",
       " {'norm_timestamp': 15.325682163238525,\n",
       "  'event': 'ball bounce',\n",
       "  'scaled_time': 82.52630322851213},\n",
       " {'norm_timestamp': 15.43074631690979,\n",
       "  'event': 'ball bounce',\n",
       "  'scaled_time': 83.09205659022022},\n",
       " {'norm_timestamp': 15.44074821472168,\n",
       "  'event': 'ball return',\n",
       "  'scaled_time': 83.1459151814981},\n",
       " {'norm_timestamp': 15.551613569259644,\n",
       "  'event': 'ball bounce',\n",
       "  'scaled_time': 83.74290706536236},\n",
       " {'norm_timestamp': 15.68877124786377,\n",
       "  'event': 'ball return',\n",
       "  'scaled_time': 84.48147883359032},\n",
       " {'norm_timestamp': 15.79563856124878,\n",
       "  'event': 'ball bounce',\n",
       "  'scaled_time': 85.05694191677905},\n",
       " {'norm_timestamp': 15.806744813919067,\n",
       "  'event': 'ball bounce',\n",
       "  'scaled_time': 85.11674727916606},\n",
       " {'norm_timestamp': 15.920126914978027,\n",
       "  'event': 'ball return',\n",
       "  'scaled_time': 85.7272914332868},\n",
       " {'norm_timestamp': 16.021745443344116,\n",
       "  'event': 'ball bounce',\n",
       "  'scaled_time': 86.27449066371915},\n",
       " {'norm_timestamp': 16.1184139251709,\n",
       "  'event': 'ball bounce',\n",
       "  'scaled_time': 86.79503469946934},\n",
       " {'norm_timestamp': 16.128784894943237,\n",
       "  'event': 'ball return',\n",
       "  'scaled_time': 86.85088068316452},\n",
       " {'norm_timestamp': 16.248310089111328,\n",
       "  'event': 'ball bounce',\n",
       "  'scaled_time': 87.4945043935024},\n",
       " {'norm_timestamp': 16.36704421043396,\n",
       "  'event': 'ball return',\n",
       "  'scaled_time': 88.13386830536444},\n",
       " {'norm_timestamp': 16.47140645980835,\n",
       "  'event': 'ball bounce',\n",
       "  'scaled_time': 88.69584202671301},\n",
       " {'norm_timestamp': 16.48443055152893,\n",
       "  'event': 'ball bounce',\n",
       "  'scaled_time': 88.76597464013669},\n",
       " {'norm_timestamp': 16.605720281600952,\n",
       "  'event': 'ball return',\n",
       "  'scaled_time': 89.41910008902782},\n",
       " {'norm_timestamp': 16.712794065475464,\n",
       "  'event': 'ball bounce',\n",
       "  'scaled_time': 89.99567498218644},\n",
       " {'norm_timestamp': 16.812424659729004,\n",
       "  'event': 'ball bounce',\n",
       "  'scaled_time': 90.53216951108426},\n",
       " {'norm_timestamp': 16.825672149658203,\n",
       "  'event': 'ball return',\n",
       "  'scaled_time': 90.60350508748922},\n",
       " {'norm_timestamp': 16.92936635017395,\n",
       "  'event': 'ball bounce',\n",
       "  'scaled_time': 91.16188147450104},\n",
       " {'norm_timestamp': 17.031962394714355,\n",
       "  'event': 'ball return',\n",
       "  'scaled_time': 91.71434447037974},\n",
       " {'norm_timestamp': 17.122300386428833,\n",
       "  'event': 'ball bounce',\n",
       "  'scaled_time': 92.20079984756136},\n",
       " {'norm_timestamp': 17.132302045822144,\n",
       "  'event': 'ball bounce',\n",
       "  'scaled_time': 92.254657154994},\n",
       " {'norm_timestamp': 17.23474931716919,\n",
       "  'event': 'ball return',\n",
       "  'scaled_time': 92.80631903144868},\n",
       " {'norm_timestamp': 17.340166807174683,\n",
       "  'event': 'ball bounce',\n",
       "  'scaled_time': 93.37397505178882},\n",
       " {'norm_timestamp': 17.435678720474243,\n",
       "  'event': 'ball bounce',\n",
       "  'scaled_time': 93.88829115432434},\n",
       " {'norm_timestamp': 17.450382947921753,\n",
       "  'event': 'ball return',\n",
       "  'scaled_time': 93.96747102508957},\n",
       " {'norm_timestamp': 17.56813097000122,\n",
       "  'event': 'ball bounce',\n",
       "  'scaled_time': 94.60152495307696},\n",
       " {'norm_timestamp': 17.676363945007324,\n",
       "  'event': 'ball return',\n",
       "  'scaled_time': 95.18434190174779},\n",
       " {'norm_timestamp': 17.77618980407715,\n",
       "  'event': 'ball bounce',\n",
       "  'scaled_time': 95.72188789988965},\n",
       " {'norm_timestamp': 17.786284685134888,\n",
       "  'event': 'ball bounce',\n",
       "  'scaled_time': 95.77624719080755},\n",
       " {'norm_timestamp': 17.893457174301147,\n",
       "  'event': 'ball return',\n",
       "  'scaled_time': 96.35335359589173},\n",
       " {'norm_timestamp': 17.994215726852417,\n",
       "  'event': 'ball bounce',\n",
       "  'scaled_time': 96.89592199657653},\n",
       " {'norm_timestamp': 18.088463068008423,\n",
       "  'event': 'ball bounce',\n",
       "  'scaled_time': 97.40342858400781},\n",
       " {'norm_timestamp': 18.100475788116455,\n",
       "  'event': 'ball return',\n",
       "  'scaled_time': 97.46811512596238},\n",
       " {'norm_timestamp': 18.22738480567932,\n",
       "  'event': 'ball bounce',\n",
       "  'scaled_time': 98.15149952309858},\n",
       " {'norm_timestamp': 18.34947681427002,\n",
       "  'event': 'ball return',\n",
       "  'scaled_time': 98.8089451111914},\n",
       " {'norm_timestamp': 18.45950937271118,\n",
       "  'event': 'ball bounce',\n",
       "  'scaled_time': 99.40145252366442},\n",
       " {'norm_timestamp': 18.47251582145691,\n",
       "  'event': 'ball bounce',\n",
       "  'scaled_time': 99.47149013254102},\n",
       " {'norm_timestamp': 18.588680028915405,\n",
       "  'event': 'ball return',\n",
       "  'scaled_time': 100.09701547666012},\n",
       " {'norm_timestamp': 18.703909158706665,\n",
       "  'event': 'ball bounce',\n",
       "  'scaled_time': 100.71750557978396},\n",
       " {'norm_timestamp': 18.808561325073242,\n",
       "  'event': 'ball bounce',\n",
       "  'scaled_time': 101.2810404569332},\n",
       " {'norm_timestamp': 18.819783210754395,\n",
       "  'event': 'ball return',\n",
       "  'scaled_time': 101.34146848425715},\n",
       " {'norm_timestamp': 18.930376291275024,\n",
       "  'event': 'ball bounce',\n",
       "  'scaled_time': 101.93699421686782},\n",
       " {'norm_timestamp': 19.040032625198364,\n",
       "  'event': 'ball return',\n",
       "  'scaled_time': 102.5274757215666},\n",
       " {'norm_timestamp': 19.16089415550232,\n",
       "  'event': 'ball bounce',\n",
       "  'scaled_time': 103.1782953844232},\n",
       " {'norm_timestamp': 19.17538022994995,\n",
       "  'event': 'ball bounce',\n",
       "  'scaled_time': 103.25630053680223},\n",
       " {'norm_timestamp': 19.30946969985962,\n",
       "  'event': 'ball return',\n",
       "  'scaled_time': 103.97835050075486},\n",
       " {'norm_timestamp': 19.433441162109375,\n",
       "  'event': 'ball bounce',\n",
       "  'scaled_time': 104.64591664080218},\n",
       " {'norm_timestamp': 19.554829835891724,\n",
       "  'event': 'ball bounce',\n",
       "  'scaled_time': 105.29957488546411},\n",
       " {'norm_timestamp': 19.57034420967102,\n",
       "  'event': 'ball return',\n",
       "  'scaled_time': 105.38311726232364},\n",
       " {'norm_timestamp': 19.6917507648468,\n",
       "  'event': 'ball bounce',\n",
       "  'scaled_time': 106.03687179537788},\n",
       " {'norm_timestamp': 19.808133602142334,\n",
       "  'event': 'ball return',\n",
       "  'scaled_time': 106.66357442557363},\n",
       " {'norm_timestamp': 19.909631967544556,\n",
       "  'event': 'ball bounce',\n",
       "  'scaled_time': 107.21012659800965},\n",
       " {'norm_timestamp': 19.921102285385132,\n",
       "  'event': 'ball bounce',\n",
       "  'scaled_time': 107.27189239206412},\n",
       " {'norm_timestamp': 20.036982536315918,\n",
       "  'event': 'ball return',\n",
       "  'scaled_time': 107.89588867651331},\n",
       " {'norm_timestamp': 20.15815496444702,\n",
       "  'event': 'ball bounce',\n",
       "  'scaled_time': 108.54838247355089},\n",
       " {'norm_timestamp': 20.25883388519287,\n",
       "  'event': 'ball bounce',\n",
       "  'scaled_time': 109.09052206992861},\n",
       " {'norm_timestamp': 20.27183771133423,\n",
       "  'event': 'ball return',\n",
       "  'scaled_time': 109.16054555650767},\n",
       " {'norm_timestamp': 20.377765655517578,\n",
       "  'event': 'ball bounce',\n",
       "  'scaled_time': 109.730950289487},\n",
       " {'norm_timestamp': 20.543428421020508,\n",
       "  'event': 'ball return',\n",
       "  'scaled_time': 110.62301730966587},\n",
       " {'norm_timestamp': 20.64180850982666,\n",
       "  'event': 'ball bounce',\n",
       "  'scaled_time': 111.15277807032807},\n",
       " {'norm_timestamp': 20.65283751487732,\n",
       "  'event': 'ball bounce',\n",
       "  'scaled_time': 111.21216746686031},\n",
       " {'norm_timestamp': 20.780650854110718,\n",
       "  'event': 'ball return',\n",
       "  'scaled_time': 111.90042148895698},\n",
       " {'norm_timestamp': 20.893677711486816,\n",
       "  'event': 'ball bounce',\n",
       "  'scaled_time': 112.50905271368379},\n",
       " {'norm_timestamp': 20.990127325057983,\n",
       "  'event': 'ball bounce',\n",
       "  'scaled_time': 113.02841817951209},\n",
       " {'norm_timestamp': 21.002638578414917,\n",
       "  'event': 'ball return',\n",
       "  'scaled_time': 113.09578924184429},\n",
       " {'norm_timestamp': 21.10775899887085,\n",
       "  'event': 'ball bounce',\n",
       "  'scaled_time': 113.66184559102685},\n",
       " {'norm_timestamp': 21.233186960220337,\n",
       "  'event': 'ball return',\n",
       "  'scaled_time': 114.33725474158922},\n",
       " {'norm_timestamp': 21.341079473495483,\n",
       "  'event': 'ball bounce',\n",
       "  'scaled_time': 114.91823835927045},\n",
       " {'norm_timestamp': 21.35208225250244,\n",
       "  'event': 'ball bounce',\n",
       "  'scaled_time': 114.97748653282729},\n",
       " {'norm_timestamp': 21.458942413330078,\n",
       "  'event': 'ball return',\n",
       "  'scaled_time': 115.5529111006591},\n",
       " {'norm_timestamp': 21.57131290435791,\n",
       "  'event': 'ball bounce',\n",
       "  'scaled_time': 116.15800789946547},\n",
       " {'norm_timestamp': 21.675697088241577,\n",
       "  'event': 'ball bounce',\n",
       "  'scaled_time': 116.72009973457527},\n",
       " {'norm_timestamp': 21.686997890472412,\n",
       "  'event': 'ball return',\n",
       "  'scaled_time': 116.78095271467063},\n",
       " {'norm_timestamp': 21.797097206115723,\n",
       "  'event': 'ball bounce',\n",
       "  'scaled_time': 117.37381960380827},\n",
       " {'norm_timestamp': 21.91066288948059,\n",
       "  'event': 'ball return',\n",
       "  'scaled_time': 117.98535231875672},\n",
       " {'norm_timestamp': 22.011337518692017,\n",
       "  'event': 'ball bounce',\n",
       "  'scaled_time': 118.5274688059203},\n",
       " {'norm_timestamp': 22.023393154144287,\n",
       "  'event': 'ball bounce',\n",
       "  'scaled_time': 118.59238644001641},\n",
       " {'norm_timestamp': 22.135732650756836,\n",
       "  'event': 'ball return',\n",
       "  'scaled_time': 119.19731633894278},\n",
       " {'norm_timestamp': 22.254252195358276,\n",
       "  'event': 'ball bounce',\n",
       "  'scaled_time': 119.83552479009708}]"
      ]
     },
     "execution_count": 13,
     "metadata": {},
     "output_type": "execute_result"
    }
   ],
   "source": [
    "minutes_recordings[1]"
   ]
  },
  {
   "cell_type": "markdown",
   "id": "785c30f2",
   "metadata": {},
   "source": [
    "All set! Now let's compute some statistics on this data:"
   ]
  },
  {
   "cell_type": "code",
   "execution_count": 14,
   "id": "98fca93e",
   "metadata": {},
   "outputs": [],
   "source": [
    "def filter_events(minute):\n",
    "    bounces = [e for e in minute if e[\"event\"]==\"ball bounce\"]\n",
    "    hits = [e for e in minute if e[\"event\"]==\"ball return\"]\n",
    "    \n",
    "    # detect aces\n",
    "    aces = []\n",
    "    for i in range(len(minute)):\n",
    "        if minute[i][\"event\"]==\"motor layout: 0\":\n",
    "            # try to find next ace\n",
    "            for j in range(0, len(minute)-i):\n",
    "                if minute[i+j][\"event\"]==\"ball return\":\n",
    "                    break # no ace\n",
    "                if minute[i+j][\"event\"]==\"ball missed\":\n",
    "                    aces.append(minute[i+j]) # ace detected\n",
    "                    break\n",
    "                    \n",
    "    # detect long_rallies\n",
    "    rallies = []\n",
    "    for i in range(len(minute)):\n",
    "        \n",
    "        if minute[i][\"event\"]==\"motor layout: 0\":\n",
    "            \n",
    "            rally = []\n",
    "            \n",
    "            # try to find next return\n",
    "            for j in range(0, len(minute)-i):\n",
    "                if minute[i+j][\"event\"]==\"ball return\":\n",
    "                    rally.append(minute[i+j])\n",
    "                if minute[i+j][\"event\"]==\"ball missed\":\n",
    "                    rallies.append(rally)\n",
    "                    break\n",
    "                    \n",
    "    rally_end=[] \n",
    "    for i in range(len(minute)):\n",
    "        if minute[i][\"event\"]==\"ball missed\":\n",
    "            rally_end.append(minute[i])\n",
    "                                 \n",
    "    return {\n",
    "        \"bounces\": bounces,\n",
    "        \"aces\":aces,\n",
    "        \"hits\":hits,\n",
    "        \"rallies\":rallies,\n",
    "        \"misses\": rally_end\n",
    "    }"
   ]
  },
  {
   "cell_type": "code",
   "execution_count": 15,
   "id": "35c109a7",
   "metadata": {},
   "outputs": [],
   "source": [
    "stats = filter_events(simulation_results)"
   ]
  },
  {
   "cell_type": "code",
   "execution_count": 16,
   "id": "b96ce5a8",
   "metadata": {},
   "outputs": [],
   "source": [
    "def stats_to_scatter(stats):\n",
    "    plt.figure()\n",
    "    ax = plt.subplot(111)\n",
    "    keys = list(stats.keys())\n",
    "    for i in range(len(keys)):\n",
    "\n",
    "        label = keys[i]\n",
    "        if label!=\"rallies\":\n",
    "            times =  [s[\"scaled_time\"] for s in stats[label]]\n",
    "            ax.scatter(times, [i for _ in range(len(times))], label=label)\n",
    "        else:\n",
    "            last_times = [s[-1][\"scaled_time\"] for s in stats[label] if len(s)>3]\n",
    "            ax.scatter(last_times, [i for _ in range(len(last_times))], label=\"long rallies (>3)\")\n",
    "\n",
    "    ax.set_yticks([])\n",
    "    ax.set_ylim(4.1, -0.1)\n",
    "    ax.set_xlabel(\"seconds\")\n",
    "    ax.legend()\n",
    "    return ax"
   ]
  },
  {
   "cell_type": "code",
   "execution_count": 17,
   "id": "0377663a",
   "metadata": {},
   "outputs": [
    {
     "data": {
      "image/png": "[encoded data removed]",
      "text/plain": [
       "<Figure size 432x288 with 1 Axes>"
      ]
     },
     "metadata": {
      "needs_background": "light"
     },
     "output_type": "display_data"
    }
   ],
   "source": [
    "ax = stats_to_scatter(stats)"
   ]
  },
  {
   "cell_type": "code",
   "execution_count": 18,
   "id": "5fba4315",
   "metadata": {},
   "outputs": [
    {
     "data": {
      "text/plain": [
       "{'norm_timestamp': 0.6410953998565674,\n",
       " 'event': 'ball missed',\n",
       " 'scaled_time': 3.452194349552353}"
      ]
     },
     "execution_count": 18,
     "metadata": {},
     "output_type": "execute_result"
    }
   ],
   "source": [
    "stats[\"misses\"][0]"
   ]
  },
  {
   "cell_type": "markdown",
   "id": "63afde09",
   "metadata": {},
   "source": [
    "Now, display as a vector"
   ]
  },
  {
   "cell_type": "code",
   "execution_count": 19,
   "id": "e72b150b",
   "metadata": {},
   "outputs": [],
   "source": [
    "# create a numpy array per second, with the events\n",
    "def stats_to_image(stats):\n",
    "    event_array = np.zeros((4,1200))\n",
    "\n",
    "    keys = list(stats.keys())\n",
    "    for i in range(len(keys)):\n",
    "\n",
    "        label = keys[i]\n",
    "        if label!=\"rallies\":\n",
    "            times =  [int(np.round(s[\"scaled_time\"])) for s in stats[label]]\n",
    "            for t in times:\n",
    "                if t<min20:\n",
    "                    event_array[i, t] = 1\n",
    "        else:\n",
    "            last_times = [int(np.round(s[-1][\"scaled_time\"])) for s in stats[label] if len(s)>3]\n",
    "            for t in last_times:\n",
    "                if t<min20:\n",
    "                    event_array[i, t] = 1\n",
    "    return event_array"
   ]
  },
  {
   "cell_type": "code",
   "execution_count": 21,
   "id": "9a246b32",
   "metadata": {},
   "outputs": [
    {
     "ename": "IndexError",
     "evalue": "index 4 is out of bounds for axis 0 with size 4",
     "output_type": "error",
     "traceback": [
      "\u001b[1;31m---------------------------------------------------------------------------\u001b[0m",
      "\u001b[1;31mIndexError\u001b[0m                                Traceback (most recent call last)",
      "\u001b[1;32mc:\\Users\\skorm\\Documents\\GitHub\\BrainDishSiMulator\\notebooks\\2023-07-06_Neuromorphs_DQN_analysis.ipynb Cell 20\u001b[0m in \u001b[0;36m<cell line: 1>\u001b[1;34m()\u001b[0m\n\u001b[1;32m----> <a href='vscode-notebook-cell:/c%3A/Users/skorm/Documents/GitHub/BrainDishSiMulator/notebooks/2023-07-06_Neuromorphs_DQN_analysis.ipynb#X25sZmlsZQ%3D%3D?line=0'>1</a>\u001b[0m image \u001b[39m=\u001b[39m stats_to_image(stats)\n\u001b[0;32m      <a href='vscode-notebook-cell:/c%3A/Users/skorm/Documents/GitHub/BrainDishSiMulator/notebooks/2023-07-06_Neuromorphs_DQN_analysis.ipynb#X25sZmlsZQ%3D%3D?line=1'>2</a>\u001b[0m ax \u001b[39m=\u001b[39m stats_to_scatter(stats)\n\u001b[0;32m      <a href='vscode-notebook-cell:/c%3A/Users/skorm/Documents/GitHub/BrainDishSiMulator/notebooks/2023-07-06_Neuromorphs_DQN_analysis.ipynb#X25sZmlsZQ%3D%3D?line=2'>3</a>\u001b[0m ax\u001b[39m.\u001b[39mimshow(image, aspect\u001b[39m=\u001b[39m\u001b[39m\"\u001b[39m\u001b[39mauto\u001b[39m\u001b[39m\"\u001b[39m)\n",
      "\u001b[1;32mc:\\Users\\skorm\\Documents\\GitHub\\BrainDishSiMulator\\notebooks\\2023-07-06_Neuromorphs_DQN_analysis.ipynb Cell 20\u001b[0m in \u001b[0;36mstats_to_image\u001b[1;34m(stats)\u001b[0m\n\u001b[0;32m     <a href='vscode-notebook-cell:/c%3A/Users/skorm/Documents/GitHub/BrainDishSiMulator/notebooks/2023-07-06_Neuromorphs_DQN_analysis.ipynb#X25sZmlsZQ%3D%3D?line=10'>11</a>\u001b[0m     \u001b[39mfor\u001b[39;00m t \u001b[39min\u001b[39;00m times:\n\u001b[0;32m     <a href='vscode-notebook-cell:/c%3A/Users/skorm/Documents/GitHub/BrainDishSiMulator/notebooks/2023-07-06_Neuromorphs_DQN_analysis.ipynb#X25sZmlsZQ%3D%3D?line=11'>12</a>\u001b[0m         \u001b[39mif\u001b[39;00m t\u001b[39m<\u001b[39mmin20:\n\u001b[1;32m---> <a href='vscode-notebook-cell:/c%3A/Users/skorm/Documents/GitHub/BrainDishSiMulator/notebooks/2023-07-06_Neuromorphs_DQN_analysis.ipynb#X25sZmlsZQ%3D%3D?line=12'>13</a>\u001b[0m             event_array[i, t] \u001b[39m=\u001b[39m \u001b[39m1\u001b[39m\n\u001b[0;32m     <a href='vscode-notebook-cell:/c%3A/Users/skorm/Documents/GitHub/BrainDishSiMulator/notebooks/2023-07-06_Neuromorphs_DQN_analysis.ipynb#X25sZmlsZQ%3D%3D?line=13'>14</a>\u001b[0m \u001b[39melse\u001b[39;00m:\n\u001b[0;32m     <a href='vscode-notebook-cell:/c%3A/Users/skorm/Documents/GitHub/BrainDishSiMulator/notebooks/2023-07-06_Neuromorphs_DQN_analysis.ipynb#X25sZmlsZQ%3D%3D?line=14'>15</a>\u001b[0m     last_times \u001b[39m=\u001b[39m [\u001b[39mint\u001b[39m(np\u001b[39m.\u001b[39mround(s[\u001b[39m-\u001b[39m\u001b[39m1\u001b[39m][\u001b[39m\"\u001b[39m\u001b[39mscaled_time\u001b[39m\u001b[39m\"\u001b[39m])) \u001b[39mfor\u001b[39;00m s \u001b[39min\u001b[39;00m stats[label] \u001b[39mif\u001b[39;00m \u001b[39mlen\u001b[39m(s)\u001b[39m>\u001b[39m\u001b[39m3\u001b[39m]\n",
      "\u001b[1;31mIndexError\u001b[0m: index 4 is out of bounds for axis 0 with size 4"
     ]
    }
   ],
   "source": [
    "image = stats_to_image(stats)\n",
    "ax = stats_to_scatter(stats)\n",
    "ax.imshow(image, aspect=\"auto\")"
   ]
  },
  {
   "cell_type": "markdown",
   "id": "6a0c44fe",
   "metadata": {},
   "source": [
    "Finally, let's get the stats per minute:"
   ]
  },
  {
   "cell_type": "code",
   "execution_count": 22,
   "id": "d9b7d38f",
   "metadata": {},
   "outputs": [],
   "source": [
    "def get_minute_stats(image):\n",
    "    minute_stats = []\n",
    "\n",
    "    for t in range(0, image.shape[1], 60):\n",
    "        minute = image[:, t:t+60]\n",
    "        stats = minute.mean(1)\n",
    "        minute_stats.append(stats)\n",
    "\n",
    "    return minute_stats"
   ]
  },
  {
   "cell_type": "code",
   "execution_count": 23,
   "id": "e33c6da5",
   "metadata": {},
   "outputs": [
    {
     "ename": "NameError",
     "evalue": "name 'image' is not defined",
     "output_type": "error",
     "traceback": [
      "\u001b[1;31m---------------------------------------------------------------------------\u001b[0m",
      "\u001b[1;31mNameError\u001b[0m                                 Traceback (most recent call last)",
      "\u001b[1;32mc:\\Users\\skorm\\Documents\\GitHub\\BrainDishSiMulator\\notebooks\\2023-07-06_Neuromorphs_DQN_analysis.ipynb Cell 23\u001b[0m in \u001b[0;36m<cell line: 1>\u001b[1;34m()\u001b[0m\n\u001b[1;32m----> <a href='vscode-notebook-cell:/c%3A/Users/skorm/Documents/GitHub/BrainDishSiMulator/notebooks/2023-07-06_Neuromorphs_DQN_analysis.ipynb#X31sZmlsZQ%3D%3D?line=0'>1</a>\u001b[0m minute_stats \u001b[39m=\u001b[39m get_minute_stats(image)\n",
      "\u001b[1;31mNameError\u001b[0m: name 'image' is not defined"
     ]
    }
   ],
   "source": [
    "minute_stats = get_minute_stats(image)"
   ]
  },
  {
   "cell_type": "code",
   "execution_count": 24,
   "id": "025dcdce",
   "metadata": {},
   "outputs": [
    {
     "ename": "NameError",
     "evalue": "name 'minute_stats' is not defined",
     "output_type": "error",
     "traceback": [
      "\u001b[1;31m---------------------------------------------------------------------------\u001b[0m",
      "\u001b[1;31mNameError\u001b[0m                                 Traceback (most recent call last)",
      "\u001b[1;32mc:\\Users\\skorm\\Documents\\GitHub\\BrainDishSiMulator\\notebooks\\2023-07-06_Neuromorphs_DQN_analysis.ipynb Cell 24\u001b[0m in \u001b[0;36m<cell line: 15>\u001b[1;34m()\u001b[0m\n\u001b[0;32m     <a href='vscode-notebook-cell:/c%3A/Users/skorm/Documents/GitHub/BrainDishSiMulator/notebooks/2023-07-06_Neuromorphs_DQN_analysis.ipynb#X32sZmlsZQ%3D%3D?line=11'>12</a>\u001b[0m     df \u001b[39m=\u001b[39m pd\u001b[39m.\u001b[39mDataFrame(data_dict)\n\u001b[0;32m     <a href='vscode-notebook-cell:/c%3A/Users/skorm/Documents/GitHub/BrainDishSiMulator/notebooks/2023-07-06_Neuromorphs_DQN_analysis.ipynb#X32sZmlsZQ%3D%3D?line=12'>13</a>\u001b[0m     \u001b[39mreturn\u001b[39;00m df\n\u001b[1;32m---> <a href='vscode-notebook-cell:/c%3A/Users/skorm/Documents/GitHub/BrainDishSiMulator/notebooks/2023-07-06_Neuromorphs_DQN_analysis.ipynb#X32sZmlsZQ%3D%3D?line=14'>15</a>\u001b[0m df \u001b[39m=\u001b[39m stats_to_pd(minute_stats)\n\u001b[0;32m     <a href='vscode-notebook-cell:/c%3A/Users/skorm/Documents/GitHub/BrainDishSiMulator/notebooks/2023-07-06_Neuromorphs_DQN_analysis.ipynb#X32sZmlsZQ%3D%3D?line=15'>16</a>\u001b[0m df\n",
      "\u001b[1;31mNameError\u001b[0m: name 'minute_stats' is not defined"
     ]
    }
   ],
   "source": [
    "# transform as pd:\n",
    "def stats_to_pd(minute_stats):\n",
    "    data_dict = []\n",
    "    for i in range(len(minute_stats)):\n",
    "        d = [{\"time\":i, \"value\":minute_stats[i][0], \"event_type\":\"bounce\"},\n",
    "             {\"time\":i, \"value\":minute_stats[i][1], \"event_type\":\"aces\"},\n",
    "             {\"time\":i, \"value\":minute_stats[i][2], \"event_type\":\"hits\"},\n",
    "             {\"time\":i, \"value\":minute_stats[i][3], \"event_type\":\"long_rallies\"}\n",
    "            ]\n",
    "        data_dict+=(d)\n",
    "\n",
    "    df = pd.DataFrame(data_dict)\n",
    "    return df\n",
    "\n",
    "df = stats_to_pd(minute_stats)\n",
    "df"
   ]
  },
  {
   "cell_type": "code",
   "execution_count": 18,
   "id": "de279dde",
   "metadata": {},
   "outputs": [
    {
     "ename": "NameError",
     "evalue": "name 'df' is not defined",
     "output_type": "error",
     "traceback": [
      "\u001b[0;31m---------------------------------------------------------------------------\u001b[0m",
      "\u001b[0;31mNameError\u001b[0m                                 Traceback (most recent call last)",
      "Cell \u001b[0;32mIn[18], line 1\u001b[0m\n\u001b[0;32m----> 1\u001b[0m sns\u001b[38;5;241m.\u001b[39mscatterplot(\u001b[43mdf\u001b[49m[df\u001b[38;5;241m.\u001b[39mevent_type\u001b[38;5;241m==\u001b[39m\u001b[38;5;124m\"\u001b[39m\u001b[38;5;124mhits\u001b[39m\u001b[38;5;124m\"\u001b[39m], x\u001b[38;5;241m=\u001b[39m\u001b[38;5;124m\"\u001b[39m\u001b[38;5;124mtime\u001b[39m\u001b[38;5;124m\"\u001b[39m,y\u001b[38;5;241m=\u001b[39m\u001b[38;5;124m\"\u001b[39m\u001b[38;5;124mvalue\u001b[39m\u001b[38;5;124m\"\u001b[39m)\n",
      "\u001b[0;31mNameError\u001b[0m: name 'df' is not defined"
     ]
    }
   ],
   "source": [
    "sns.scatterplot(df[df.event_type==\"hits\"], x=\"time\",y=\"value\")"
   ]
  },
  {
   "cell_type": "markdown",
   "id": "d91f181c",
   "metadata": {},
   "source": [
    "Nice! Now let's analyze all the data."
   ]
  },
  {
   "cell_type": "markdown",
   "id": "177d46c1",
   "metadata": {},
   "source": [
    "## Results on DQN"
   ]
  },
  {
   "cell_type": "code",
   "execution_count": 25,
   "id": "84f8ca9e",
   "metadata": {},
   "outputs": [],
   "source": [
    "def divide_dataset(data, chunk_size):\n",
    "    chunks = []\n",
    "    current_chunk = []\n",
    "    current_time = data[0]['scaled_time']\n",
    "    \n",
    "    for item in data:\n",
    "        if item['scaled_time'] - current_time <= chunk_size:\n",
    "            current_chunk.append(item)\n",
    "        else:\n",
    "            chunks.append(current_chunk)\n",
    "            current_chunk = [item]\n",
    "            current_time = item['scaled_time']\n",
    "    \n",
    "    if current_chunk:\n",
    "        chunks.append(current_chunk)\n",
    "    \n",
    "    return chunks"
   ]
  },
  {
   "cell_type": "code",
   "execution_count": 26,
   "id": "d4cfb0a1",
   "metadata": {},
   "outputs": [],
   "source": [
    "def get_rallies_per_minutes(stats):\n",
    "    rallies = stats[\"rallies\"]\n",
    "    ends = stats[\"misses\"]\n",
    "    \n",
    "    hits_per_rallies = []\n",
    "    for i in range(len(rallies)):\n",
    "        v = {\"value\":len(rallies[i]),\n",
    "        \"time\":ends[i][\"scaled_time\"]}\n",
    "        hits_per_rallies.append(v)\n",
    "    return hits_per_rallies"
   ]
  },
  {
   "cell_type": "code",
   "execution_count": 27,
   "id": "f40d0124",
   "metadata": {},
   "outputs": [],
   "source": [
    "chunk_size = 30\n",
    "\n",
    "def get_aces_ratio(simulation_results):\n",
    "    sim = [x for x in simulation_results if x[\"event\"]!=\"ball bounce\"]\n",
    "    chunks = divide_dataset(sim, chunk_size)\n",
    "    \n",
    "    aces_across_time = []\n",
    "    for c in range(len(chunks)):\n",
    "        events_without_bounce = chunks[c] # this is not useful here\n",
    "        game_started_next_hit, game_started_next_miss = [], []\n",
    "        for i in range(len(events_without_bounce) - 1): # iterate up to the second-to-last element\n",
    "            if events_without_bounce[i]['event'] == 'motor layout: 0':\n",
    "                next_event = events_without_bounce[i+1]\n",
    "                if next_event['event'] == 'ball missed' :\n",
    "                    game_started_next_miss.append(next_event)\n",
    "                elif next_event['event'] == 'ball return' :\n",
    "                    game_started_next_hit.append(next_event)\n",
    "\n",
    "        aces = len(game_started_next_miss)\n",
    "        successfull_init_returns = len(game_started_next_hit)\n",
    "        ratio_aces = aces/(aces+successfull_init_returns+1e-9)\n",
    "        aces_across_time.append({\"time\":c*chunk_size,\n",
    "                                \"value\":ratio_aces*100})\n",
    "    return aces_across_time\n",
    "\n",
    "def get_percentage_long(simulations_results):\n",
    "    sim = [x for x in simulation_results if x[\"event\"]!=\"ball bounce\"]\n",
    "    chunks = divide_dataset(sim, chunk_size)\n",
    "\n",
    "    percentage_across = []\n",
    "    for c in range(len(chunks)):\n",
    "        rallies = [x for x in chunks[c] if x[\"event\"]!=\"ball missed\" and x[\"event\"]!=\"game begin\"]\n",
    "        num_rallies = len([x for x in chunks[c] if x[\"event\"]==\"motor layout: 0\"])\n",
    "\n",
    "        n=0\n",
    "        length_rallies = []\n",
    "        for i in range(len(rallies)):\n",
    "\n",
    "            if rallies[i][\"event\"]==\"ball return\":\n",
    "                n=n+1\n",
    "            else:\n",
    "                length_rallies.append(n)\n",
    "                n=0\n",
    "        \n",
    "        if len(length_rallies):\n",
    "            percentage_long = len([x for x in length_rallies if x>3])/len(length_rallies)\n",
    "            percentage_across.append({\"time\":c*chunk_size,\n",
    "                                    \"value\":percentage_long*100})\n",
    "\n",
    "    return percentage_across\n",
    "\n",
    "\n",
    "def get_rally_hits(simulations_results):\n",
    "    sim = [x for x in simulation_results if x[\"event\"]!=\"ball bounce\"]\n",
    "    chunks = divide_dataset(sim, chunk_size)\n",
    "\n",
    "    rally_hits = []\n",
    "    for c in range(len(chunks)):\n",
    "        rallies = [x for x in chunks[c] if x[\"event\"]!=\"ball missed\" and x[\"event\"]!=\"game begin\"]\n",
    "        num_rallies = len([x for x in chunks[c] if x[\"event\"]==\"motor layout: 0\"])\n",
    "\n",
    "        n=0\n",
    "        length_rallies = []\n",
    "        for i in range(len(rallies)):\n",
    "\n",
    "            if rallies[i][\"event\"]==\"ball return\":\n",
    "                n=n+1\n",
    "            else:\n",
    "                length_rallies.append(n)\n",
    "                n=0\n",
    "        \n",
    "        if len(length_rallies):\n",
    "            mean_length = np.mean(length_rallies)\n",
    "            rally_hits.append({\"time\":c*chunk_size,\n",
    "                                    \"value\":mean_length})\n",
    "\n",
    "    return rally_hits\n"
   ]
  },
  {
   "cell_type": "code",
   "execution_count": 28,
   "id": "5259bad6",
   "metadata": {},
   "outputs": [],
   "source": [
    "# loop over simulations\n",
    "hits_per_rally = []\n",
    "aces_ratios = []\n",
    "long_ratios = []\n",
    "\n",
    "for ball_speed in [1.0]:\n",
    "    result_dir = \"../code/games/pong/results/DQN/BALL_SPEED_{}/\".format(ball_speed)\n",
    "    simulations = [os.path.join(result_dir, x) for x in os.listdir(result_dir)]\n",
    "\n",
    "    for r in simulations:\n",
    "        simulation_results = get_simulation_results(r)\n",
    "        stats = filter_events(simulation_results)\n",
    "        \n",
    "        h = get_rally_hits(stats)\n",
    "        df=pd.DataFrame(h)\n",
    "        df[\"ball_speed\"] = ball_speed\n",
    "        hits_per_rally.append(df)\n",
    "        \n",
    "        a = get_aces_ratio(simulation_results)\n",
    "        df = pd.DataFrame(a)\n",
    "        df[\"ball_speed\"] = ball_speed\n",
    "        aces_ratios.append(df)\n",
    "        \n",
    "        p = get_percentage_long(simulation_results)\n",
    "        df = pd.DataFrame(p)\n",
    "        df[\"ball_speed\"] = ball_speed\n",
    "        long_ratios.append(df)\n",
    "        \n",
    "H = pd.concat(hits_per_rally)\n",
    "A = pd.concat(aces_ratios)\n",
    "L = pd.concat(long_ratios)"
   ]
  },
  {
   "cell_type": "code",
   "execution_count": 29,
   "id": "33e749b2",
   "metadata": {},
   "outputs": [
    {
     "data": {
      "image/png": "[encoded data removed]",
      "text/plain": [
       "<Figure size 1080x360 with 3 Axes>"
      ]
     },
     "metadata": {
      "needs_background": "light"
     },
     "output_type": "display_data"
    }
   ],
   "source": [
    "plt.figure(figsize=(15,5))\n",
    "\n",
    "ax = plt.subplot(1,3,1)\n",
    "\n",
    "sns.regplot(x=\"time\", y=\"value\", data=H[H.ball_speed==1.0], ax = ax, scatter=False, label=\"1.00x\")\n",
    "sns.regplot(x=\"time\", y=\"value\", data=H[H.ball_speed==2.0], ax=ax, scatter=False, label=\"2.00x\")\n",
    "sns.regplot(x=\"time\", y=\"value\", data=H[H.ball_speed==0.5], ax=ax, scatter=False, label=\"0.50x\")\n",
    "ax.legend(title=\"ball speed\")\n",
    "ax.set_ylabel(\"Average hits per rallies\")\n",
    "ax.set_xlabel(\"Elapsed Time\")\n",
    "\n",
    "ax = plt.subplot(1,3,2)\n",
    "\n",
    "sns.regplot(x=\"time\", y=\"value\", data=A[A.ball_speed==1.0], ax = ax, scatter=False, label=\"1.00x\")\n",
    "sns.regplot(x=\"time\", y=\"value\", data=A[A.ball_speed==2.0], ax=ax, scatter=False, label=\"2.00x\")\n",
    "sns.regplot(x=\"time\", y=\"value\", data=A[A.ball_speed==0.5], ax=ax, scatter=False, label=\"0.50x\")\n",
    "ax.legend(title=\"ball speed\")\n",
    "ax.set_ylabel(\"%Aces\")\n",
    "ax.set_xlabel(\"Elapsed Time\")\n",
    "\n",
    "\n",
    "ax = plt.subplot(1,3,3)\n",
    "\n",
    "sns.regplot(x=\"time\", y=\"value\", data=L[L.ball_speed==1.0], ax = ax, scatter=False, label=\"1.00x\")\n",
    "sns.regplot(x=\"time\", y=\"value\", data=L[L.ball_speed==2.0], ax=ax, scatter=False, label=\"2.00x\")\n",
    "sns.regplot(x=\"time\", y=\"value\", data=L[L.ball_speed==0.5], ax=ax, scatter=False, label=\"0.50x\")\n",
    "ax.legend(title=\"ball speed\")\n",
    "ax.set_ylabel(\"%Long rallies\")\n",
    "ax.set_xlabel(\"Elapsed Time\")\n",
    "plt.show()"
   ]
  },
  {
   "cell_type": "code",
   "execution_count": 52,
   "id": "80bec21e",
   "metadata": {},
   "outputs": [
    {
     "data": {
      "text/plain": [
       "['BALL_SPEED_1.0']"
      ]
     },
     "execution_count": 52,
     "metadata": {},
     "output_type": "execute_result"
    }
   ],
   "source": [
    "os.listdir(\"../code/games/pong/results/DQN/\")"
   ]
  },
  {
   "cell_type": "markdown",
   "id": "1b1334b0",
   "metadata": {},
   "source": [
    "# Results per model"
   ]
  },
  {
   "cell_type": "code",
   "execution_count": 63,
   "id": "69d868ff",
   "metadata": {},
   "outputs": [
    {
     "data": {
      "text/plain": [
       "['Hebbian_Simon', 'Hugo', 'Simon']"
      ]
     },
     "execution_count": 63,
     "metadata": {},
     "output_type": "execute_result"
    }
   ],
   "source": [
    "models = os.listdir(\"../code/games/pong/results_demo/\")\n",
    "models"
   ]
  },
  {
   "cell_type": "code",
   "execution_count": 64,
   "id": "777ecdbd",
   "metadata": {},
   "outputs": [],
   "source": [
    "# Results across different models\n",
    "# loop over simulations\n",
    "hits_per_rally = []\n",
    "aces_ratios = []\n",
    "long_ratios = []\n",
    "ball_speed = 1.0\n",
    "\n",
    "for model in models:\n",
    "    result_dir = \"../code/games/pong/results_demo/{}/BALL_SPEED_{}/\".format(model, ball_speed)\n",
    "    if not os.path.exists(result_dir):\n",
    "        print(\"skip\", result_dir)\n",
    "        continue\n",
    "    simulations = [os.path.join(result_dir, x) for x in os.listdir(result_dir)]\n",
    "\n",
    "    for r in simulations:\n",
    "        simulation_results = get_simulation_results(r)\n",
    "        stats = filter_events(simulation_results)\n",
    "        \n",
    "        h = get_rallies_per_minutes(stats)\n",
    "        df=pd.DataFrame(h)\n",
    "        df[\"ball_speed\"] = ball_speed\n",
    "        df[\"model\"] = model\n",
    "        hits_per_rally.append(df)\n",
    "        \n",
    "        a = get_aces_ratio(simulation_results)\n",
    "        df = pd.DataFrame(a)\n",
    "        df[\"ball_speed\"] = ball_speed\n",
    "        df[\"model\"] = model\n",
    "        aces_ratios.append(df)\n",
    "        \n",
    "        p = get_percentage_long(simulation_results)\n",
    "        df = pd.DataFrame(p)\n",
    "        df[\"ball_speed\"] = ball_speed\n",
    "        df[\"model\"] = model\n",
    "        long_ratios.append(df)\n",
    "        \n",
    "H = pd.concat(hits_per_rally)\n",
    "A = pd.concat(aces_ratios)\n",
    "L = pd.concat(long_ratios)"
   ]
  },
  {
   "cell_type": "code",
   "execution_count": 65,
   "id": "7da8ccf3",
   "metadata": {},
   "outputs": [
    {
     "data": {
      "image/png": "[encoded data removed]",
      "text/plain": [
       "<Figure size 576x432 with 1 Axes>"
      ]
     },
     "metadata": {
      "needs_background": "light"
     },
     "output_type": "display_data"
    },
    {
     "data": {
      "image/png": "[encoded data removed]",
      "text/plain": [
       "<Figure size 576x432 with 1 Axes>"
      ]
     },
     "metadata": {
      "needs_background": "light"
     },
     "output_type": "display_data"
    },
    {
     "data": {
      "image/png": "[encoded data removed]",
      "text/plain": [
       "<Figure size 576x432 with 1 Axes>"
      ]
     },
     "metadata": {
      "needs_background": "light"
     },
     "output_type": "display_data"
    }
   ],
   "source": [
    "xlim = (0, 1200) # You need to specify these values\n",
    "ylim = (0, 10) # You need to specify these values\n",
    "\n",
    "for model in models:\n",
    "    # Create a new figure for H data\n",
    "    fig, ax = plt.subplots(figsize=(8,6))\n",
    "    sns.regplot(x=\"time\", y=\"value\", data=H[H.model==model], ax=ax, scatter=False, label=model)\n",
    "    ax.set_title(model, fontsize = 14)\n",
    "    ax.set_xlabel(\"Elapsed Time\", fontsize = 14)\n",
    "    ax.set_ylabel('Average hits per game')\n",
    "    ax.set_xlim(xlim)\n",
    "    ax.set_ylim(ylim)\n",
    "    ax.spines[['top', 'right']].set_visible(False)\n",
    "    plt.show()"
   ]
  },
  {
   "cell_type": "code",
   "execution_count": 35,
   "id": "0c7d8882",
   "metadata": {},
   "outputs": [
    {
     "name": "stderr",
     "output_type": "stream",
     "text": [
      "No artists with labels found to put in legend.  Note that artists whose label start with an underscore are ignored when legend() is called with no argument.\n",
      "No artists with labels found to put in legend.  Note that artists whose label start with an underscore are ignored when legend() is called with no argument.\n",
      "No artists with labels found to put in legend.  Note that artists whose label start with an underscore are ignored when legend() is called with no argument.\n"
     ]
    },
    {
     "data": {
      "image/png": "[encoded data removed]",
      "text/plain": [
       "<Figure size 1080x360 with 3 Axes>"
      ]
     },
     "metadata": {
      "needs_background": "light"
     },
     "output_type": "display_data"
    }
   ],
   "source": [
    "plt.figure(figsize=(15,5))\n",
    "\n",
    "ax = plt.subplot(1,3,1)\n",
    "\n",
    "for model in models:\n",
    "    sns.regplot(x=\"time\", y=\"value\", data=H[H.model==model], ax = ax, scatter=False, label=model)\n",
    "ax.legend(title=\"Model\")\n",
    "ax.set_ylabel(\"Average hits per rallies\")\n",
    "ax.set_xlabel(\"Elapsed Time\")\n",
    "\n",
    "ax = plt.subplot(1,3,2)\n",
    "\n",
    "for model in models:\n",
    "    sns.regplot(x=\"time\", y=\"value\", data=A[A.model==model], ax = ax, scatter=False, label=model)\n",
    "ax.legend(title=\"Model\")\n",
    "ax.set_ylabel(\"%Aces\")\n",
    "ax.set_xlabel(\"Elapsed Time\")\n",
    "\n",
    "\n",
    "ax = plt.subplot(1,3,3)\n",
    "\n",
    "for model in models:\n",
    "    sns.regplot(x=\"time\", y=\"value\", data=L[L.model==model], ax = ax, scatter=False, label=model)\n",
    "ax.legend(title=\"Model\")\n",
    "ax.set_ylabel(\"%Long rallies\")\n",
    "ax.set_xlabel(\"Elapsed Time\")\n",
    "plt.show()"
   ]
  },
  {
   "cell_type": "code",
   "execution_count": null,
   "id": "5929d5d6",
   "metadata": {},
   "outputs": [],
   "source": []
  }
 ],
 "metadata": {
  "kernelspec": {
   "display_name": "Python 3 (ipykernel)",
   "language": "python",
   "name": "python3"
  },
  "language_info": {
   "codemirror_mode": {
    "name": "ipython",
    "version": 3
   },
   "file_extension": ".py",
   "mimetype": "text/x-python",
   "name": "python",
   "nbconvert_exporter": "python",
   "pygments_lexer": "ipython3",
   "version": "3.9.12"
  }
 },
 "nbformat": 4,
 "nbformat_minor": 5
}
