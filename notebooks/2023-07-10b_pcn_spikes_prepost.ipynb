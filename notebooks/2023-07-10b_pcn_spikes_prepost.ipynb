{
 "cells": [
  {
   "cell_type": "code",
   "execution_count": 1,
   "id": "ba3f27ca",
   "metadata": {},
   "outputs": [],
   "source": [
    "import numpy as np\n",
    "import matplotlib.pyplot as plt\n",
    "import pandas as pd \n",
    "\n",
    "import torch \n",
    "import torch.nn.functional as F\n",
    "import torch.nn as nn\n",
    "import torchvision.transforms as transforms\n",
    "import torchvision\n",
    "import torch.backends.cudnn as cudnn\n",
    "from torch.utils.data import DataLoader, Dataset, random_split\n",
    "\n",
    "\n",
    "from tqdm import tqdm \n",
    "\n",
    "import psweep as ps"
   ]
  },
  {
   "cell_type": "code",
   "execution_count": 2,
   "id": "c14ce067",
   "metadata": {},
   "outputs": [],
   "source": [
    "import sys\n",
    "sys.path.append('../code/utils')  # Add the utils directory to the Python path\n",
    "import utils_data, utils_spikes, utils_events, utils_tensor, utils_pcn \n",
    "\n",
    "sys.path.append('../code/models')  # Add the models directory to the Python path\n",
    "import pcn"
   ]
  },
  {
   "attachments": {},
   "cell_type": "markdown",
   "id": "a91b1c31",
   "metadata": {},
   "source": [
    "# Damn it's working predictive coding is really genius work \n",
    "## Now let's try to learn pre and post structures, but also to merge dishes"
   ]
  },
  {
   "cell_type": "markdown",
   "id": "ebac8d02",
   "metadata": {},
   "source": [
    "## Merging dishes"
   ]
  },
  {
   "cell_type": "code",
   "execution_count": 3,
   "id": "406af944",
   "metadata": {},
   "outputs": [],
   "source": [
    "# Experiment specific parameters \n",
    "chip_ids = [9501, 11614, 11615] # experiment ID\n",
    "chip_sessions = [0,2] # 2 for post-training, 0 for pre-training\n",
    "\n",
    "# Stable parameters\n",
    "data_path = '../data/cortical_labs_data/' # path to data\n",
    "fs = 20000 # sampling frequency\n",
    "binsize = 100 # ms, bin size for spike counts\n",
    "array_size = 1024 # number of electrode in the array\n",
    "\n",
    "# Torch parameters \n",
    "device = torch.device(\"cuda\") if torch.cuda.is_available() else torch.device(\"cpu\") \n",
    "num_workers = 2\n",
    "pin_memory = False\n",
    "\n",
    "# Learn parameters\n",
    "batch_size = 32\n",
    "epochs = 40  # should be enough given the 07-07 notebook\n",
    "n_inferences_steps = 500  # number of inference steps per input\n",
    "n_generative_steps = 500 # number of generative steps per input\n",
    "\n",
    "# Layer parameters\n",
    "update_weights_flag = True  # whether to learn the FF weights\n",
    "f = utils_pcn.tanh\n",
    "df = utils_pcn.tanh_deriv\n",
    "\n",
    "# Network parameters\n",
    "fixed_predictions = True  # change the predictions or not\n",
    "theta_lr = 5e-4\n",
    "mu_lr = 5e-2\n",
    "weight_clamp = 50  # weight clamp\n",
    "mu_clamp = 1000  # value neuron clamp\n",
    "\n",
    "L1_size = 256\n",
    "L2_size = 128\n",
    "L3_size = 256"
   ]
  },
  {
   "cell_type": "code",
   "execution_count": 4,
   "id": "cab49835",
   "metadata": {},
   "outputs": [
    {
     "name": "stdout",
     "output_type": "stream",
     "text": [
      "Loading for chip 9501, session 0\n"
     ]
    },
    {
     "name": "stderr",
     "output_type": "stream",
     "text": [
      "Loading data...: 100%|██████████| 29/29 [00:00<00:00, 41.41it/s]\n"
     ]
    },
    {
     "name": "stdout",
     "output_type": "stream",
     "text": [
      "Stimulation mode: full game\n"
     ]
    },
    {
     "name": "stderr",
     "output_type": "stream",
     "text": [
      "Binning sensory channels: 100%|██████████| 500/500 [00:00<00:00, 11986.53it/s]\n",
      "/media/hugo/HDD Alpha/github-hdd/BrainDishSiMulator/notebooks/../code/utils/utils_tensor.py:19: UserWarning: Creating a tensor from a list of numpy.ndarrays is extremely slow. Please consider converting the list to a single numpy.ndarray with numpy.array() before converting to a tensor. (Triggered internally at  ../torch/csrc/utils/tensor_new.cpp:201.)\n",
      "  return torch.tensor(binned_spikes)\n",
      "Binning up1 channels: 100%|██████████| 100/100 [00:00<00:00, 11471.13it/s]\n",
      "Binning down1 channels: 100%|██████████| 100/100 [00:00<00:00, 12228.29it/s]\n",
      "Binning up2 channels: 100%|██████████| 100/100 [00:00<00:00, 8482.94it/s]\n",
      "Binning down2 channels: 100%|██████████| 100/100 [00:00<00:00, 10254.27it/s]\n"
     ]
    },
    {
     "name": "stdout",
     "output_type": "stream",
     "text": [
      "------------------------\n",
      "\n",
      "Loading for chip 9501, session 2\n"
     ]
    },
    {
     "name": "stderr",
     "output_type": "stream",
     "text": [
      "Loading data...: 100%|██████████| 29/29 [00:00<00:00, 43.56it/s]\n"
     ]
    },
    {
     "name": "stdout",
     "output_type": "stream",
     "text": [
      "Stimulation mode: full game\n"
     ]
    },
    {
     "name": "stderr",
     "output_type": "stream",
     "text": [
      "Binning sensory channels: 100%|██████████| 500/500 [00:00<00:00, 12051.14it/s]\n",
      "Binning up1 channels: 100%|██████████| 100/100 [00:00<00:00, 11488.10it/s]\n",
      "Binning down1 channels: 100%|██████████| 100/100 [00:00<00:00, 11781.09it/s]\n",
      "Binning up2 channels: 100%|██████████| 100/100 [00:00<00:00, 10477.38it/s]\n",
      "Binning down2 channels: 100%|██████████| 100/100 [00:00<00:00, 11408.42it/s]\n"
     ]
    },
    {
     "name": "stdout",
     "output_type": "stream",
     "text": [
      "------------------------\n",
      "\n",
      "Loading for chip 11614, session 0\n"
     ]
    },
    {
     "name": "stderr",
     "output_type": "stream",
     "text": [
      "Loading data...: 100%|██████████| 29/29 [00:00<00:00, 45.92it/s]\n"
     ]
    },
    {
     "name": "stdout",
     "output_type": "stream",
     "text": [
      "Stimulation mode: full game\n"
     ]
    },
    {
     "name": "stderr",
     "output_type": "stream",
     "text": [
      "Binning sensory channels: 100%|██████████| 500/500 [00:00<00:00, 11689.16it/s]\n",
      "Binning up1 channels: 100%|██████████| 100/100 [00:00<00:00, 10889.49it/s]\n",
      "Binning down1 channels: 100%|██████████| 100/100 [00:00<00:00, 11316.99it/s]\n",
      "Binning up2 channels: 100%|██████████| 100/100 [00:00<00:00, 11368.22it/s]\n",
      "Binning down2 channels: 100%|██████████| 100/100 [00:00<00:00, 6709.38it/s]\n"
     ]
    },
    {
     "name": "stdout",
     "output_type": "stream",
     "text": [
      "------------------------\n",
      "\n",
      "Loading for chip 11614, session 2\n"
     ]
    },
    {
     "name": "stderr",
     "output_type": "stream",
     "text": [
      "Loading data...: 100%|██████████| 29/29 [00:00<00:00, 45.75it/s]\n"
     ]
    },
    {
     "name": "stdout",
     "output_type": "stream",
     "text": [
      "Stimulation mode: full game\n"
     ]
    },
    {
     "name": "stderr",
     "output_type": "stream",
     "text": [
      "Binning sensory channels: 100%|██████████| 500/500 [00:00<00:00, 12361.20it/s]\n",
      "Binning up1 channels: 100%|██████████| 100/100 [00:00<00:00, 12414.69it/s]\n",
      "Binning down1 channels: 100%|██████████| 100/100 [00:00<00:00, 12375.86it/s]\n",
      "Binning up2 channels: 100%|██████████| 100/100 [00:00<00:00, 11562.84it/s]\n",
      "Binning down2 channels: 100%|██████████| 100/100 [00:00<00:00, 11490.30it/s]\n"
     ]
    },
    {
     "name": "stdout",
     "output_type": "stream",
     "text": [
      "------------------------\n",
      "\n",
      "Loading for chip 11615, session 0\n"
     ]
    },
    {
     "name": "stderr",
     "output_type": "stream",
     "text": [
      "Loading data...: 100%|██████████| 29/29 [00:00<00:00, 45.50it/s]\n"
     ]
    },
    {
     "name": "stdout",
     "output_type": "stream",
     "text": [
      ">>Could not load chip 11615, session 0<<\n",
      "------------------------\n",
      "\n",
      "Loading for chip 11615, session 2\n"
     ]
    },
    {
     "name": "stderr",
     "output_type": "stream",
     "text": [
      "Loading data...: 100%|██████████| 29/29 [00:00<00:00, 45.39it/s]\n"
     ]
    },
    {
     "name": "stdout",
     "output_type": "stream",
     "text": [
      "Stimulation mode: full game\n"
     ]
    },
    {
     "name": "stderr",
     "output_type": "stream",
     "text": [
      "Binning sensory channels: 100%|██████████| 500/500 [00:00<00:00, 14750.39it/s]\n",
      "Binning up1 channels: 100%|██████████| 100/100 [00:00<00:00, 15056.01it/s]\n",
      "Binning down1 channels: 100%|██████████| 100/100 [00:00<00:00, 14646.45it/s]\n",
      "Binning up2 channels: 100%|██████████| 100/100 [00:00<00:00, 12935.80it/s]\n",
      "Binning down2 channels: 100%|██████████| 100/100 [00:00<00:00, 12945.78it/s]"
     ]
    },
    {
     "name": "stdout",
     "output_type": "stream",
     "text": [
      "------------------------\n",
      "\n"
     ]
    },
    {
     "name": "stderr",
     "output_type": "stream",
     "text": [
      "\n"
     ]
    }
   ],
   "source": [
    "# define the start and end of the desired time window in seconds\n",
    "start_time_window = 60*0 # 5 minutes\n",
    "end_time_window = 60*5 # 10 minutes\n",
    "\n",
    "all_sensory_spikes = []\n",
    "all_motor_spikes = []\n",
    "\n",
    "for i_chipid, chip_id in enumerate(chip_ids):\n",
    "    for i_chip_session, chip_session in enumerate(chip_sessions):\n",
    "        print('Loading for chip {}, session {}'.format(chip_id, chip_session))\n",
    "        try:\n",
    "            data_subset, events = utils_data.load_file(chip_id, chip_session, data_path)\n",
    "        except:\n",
    "            print(f'>>Could not load chip {chip_id}, session {chip_session}<<')\n",
    "            print('------------------------\\n')\n",
    "            continue\n",
    "        spiketimes = utils_data.get_spiketimes(data_subset, array_size,fs)\n",
    "        sensory_spikes, up1_spikes, up2_spikes, down1_spikes, down2_spikes = utils_data.get_electrode_regions(data_subset, spiketimes, do_plot = False)\n",
    "\n",
    "        all_spikes = [sensory_spikes, up1_spikes, up2_spikes, down1_spikes, down2_spikes]\n",
    "        max_time_ms = max(max(max(spikes) for spikes in spike_list)*1000 for spike_list in all_spikes)\n",
    "\n",
    "        sensory_spikes_binned = utils_tensor.spike_times_to_bins(sensory_spikes, binsize, max_time_ms, spike_tag = 'sensory')\n",
    "        up1_spikes_binned = utils_tensor.spike_times_to_bins(up1_spikes, binsize, max_time_ms, spike_tag = 'up1')\n",
    "        down1_spikes_binned = utils_tensor.spike_times_to_bins(down1_spikes, binsize, max_time_ms, spike_tag='down1')\n",
    "        up2_spikes_binned = utils_tensor.spike_times_to_bins(up2_spikes, binsize, max_time_ms, spike_tag = 'up2')\n",
    "        down2_spikes_binned = utils_tensor.spike_times_to_bins(down2_spikes, binsize, max_time_ms, spike_tag = 'down2')\n",
    "\n",
    "        # Determine how many bins correspond to the desired time window\n",
    "        start_window_bins = int(start_time_window / (binsize/1000))\n",
    "        end_window_bins = int(end_time_window / (binsize/1000))\n",
    "        \n",
    "        # Slice the tensors\n",
    "        sensory_spikes_binned = sensory_spikes_binned[:,start_window_bins:end_window_bins]\n",
    "        motor_spikes_binned = torch.cat([up1_spikes_binned[:,start_window_bins:end_window_bins], \n",
    "                                        down1_spikes_binned[:,start_window_bins:end_window_bins], \n",
    "                                        up2_spikes_binned[:,start_window_bins:end_window_bins], \n",
    "                                        down2_spikes_binned[:,start_window_bins:end_window_bins]], dim = 0)\n",
    "\n",
    "        # Add the binned spikes to their respective lists\n",
    "        all_sensory_spikes.append(sensory_spikes_binned)\n",
    "        all_motor_spikes.append(motor_spikes_binned)\n",
    "        \n",
    "        print('------------------------\\n')\n",
    "\n",
    "# Concatenate all sensory and motor binned spikes into two separate tensors\n",
    "sensory_spikes_binned = torch.cat(all_sensory_spikes, dim=1)\n",
    "motor_spikes_binned = torch.cat(all_motor_spikes, dim=1)"
   ]
  },
  {
   "cell_type": "code",
   "execution_count": 5,
   "id": "66c75eb9",
   "metadata": {},
   "outputs": [
    {
     "name": "stdout",
     "output_type": "stream",
     "text": [
      "torch.Size([500, 15000])\n",
      "torch.Size([400, 15000])\n",
      "3000\n"
     ]
    }
   ],
   "source": [
    "print(sensory_spikes_binned.shape)\n",
    "print(motor_spikes_binned.shape)\n",
    "print(end_window_bins-start_window_bins)"
   ]
  },
  {
   "cell_type": "code",
   "execution_count": 6,
   "id": "a7f4f53d",
   "metadata": {},
   "outputs": [],
   "source": [
    "class NormalizeDataset(Dataset):\n",
    "    def __init__(self, tensor):\n",
    "        self.tensor = tensor\n",
    "        '''min_val = torch.min(tensor)\n",
    "        max_val = torch.max(tensor)\n",
    "        tensor = 2 * (tensor - min_val) / (max_val - min_val) - 1'''\n",
    "        \n",
    "    def __len__(self):\n",
    "        return self.tensor.shape[1]\n",
    "\n",
    "    def __getitem__(self, index):\n",
    "        sample = self.tensor[:, index]\n",
    "\n",
    "        return sample\n",
    "\n",
    "# Initialize the dataset for sensory spikes\n",
    "dataset_sensory = NormalizeDataset(sensory_spikes_binned)\n",
    "\n",
    "train_size_sensory = int(0.8 * len(dataset_sensory))\n",
    "test_size_sensory = len(dataset_sensory) - train_size_sensory\n",
    "train_dataset_sensory, test_dataset_sensory = random_split(dataset_sensory, [train_size_sensory, test_size_sensory])\n",
    "\n",
    "train_dataloader_sensory = DataLoader(train_dataset_sensory, batch_size=batch_size, shuffle=True,\n",
    "                                    num_workers = num_workers, pin_memory = pin_memory)\n",
    "test_dataloader_sensory = DataLoader(test_dataset_sensory, batch_size=batch_size, shuffle=False,\n",
    "                                    num_workers = num_workers, pin_memory = pin_memory)\n",
    "\n",
    "# Initialize the dataset for motor spikes\n",
    "dataset_motor = NormalizeDataset(motor_spikes_binned)\n",
    "\n",
    "train_size_motor = int(0.8 * len(dataset_motor))\n",
    "test_size_motor = len(dataset_motor) - train_size_motor\n",
    "train_dataset_motor, test_dataset_motor = random_split(dataset_motor, [train_size_motor, test_size_motor])\n",
    "\n",
    "train_dataloader_motor = DataLoader(train_dataset_motor, batch_size=batch_size, shuffle=True,\n",
    "                                    num_workers = num_workers, pin_memory = pin_memory)\n",
    "test_dataloader_motor = DataLoader(test_dataset_motor, batch_size=batch_size, shuffle=False,\n",
    "                                    num_workers = num_workers, pin_memory = pin_memory)"
   ]
  },
  {
   "attachments": {},
   "cell_type": "markdown",
   "id": "be136455",
   "metadata": {},
   "source": [
    "# Building the network"
   ]
  },
  {
   "cell_type": "code",
   "execution_count": 7,
   "id": "eb55624c",
   "metadata": {},
   "outputs": [
    {
     "name": "stdout",
     "output_type": "stream",
     "text": [
      "Layer 0  :  500  ->  256\n",
      "Layer 1  :  256  ->  128\n",
      "Layer 2  :  128  ->  256\n",
      "Layer 3  :  256  ->  400\n"
     ]
    }
   ],
   "source": [
    "# Building the network\n",
    "shapes = [sensory_spikes_binned.shape[0], L1_size, L2_size, L3_size, motor_spikes_binned.shape[0]]\n",
    "layers = []\n",
    "for i in range(len(shapes)-1) :\n",
    "    print('Layer', i, ' : ', shapes[i], ' -> ', shapes[i+1])\n",
    "    layers.append(pcn.FCLayer(input_size = shapes[i],\n",
    "                            output_size = shapes[i+1], f = f, df = df,\n",
    "                            device = device))"
   ]
  },
  {
   "cell_type": "code",
   "execution_count": 8,
   "id": "d8cd528b",
   "metadata": {},
   "outputs": [],
   "source": [
    "model = pcn.PCNet_Bogacz(layers = layers, batch_size = batch_size,\n",
    "                        n_inferences_steps = n_inferences_steps,\n",
    "                        mu_lr = mu_lr, theta_lr = theta_lr, pi_lr = 42,\n",
    "                        fixed_predictions = fixed_predictions, update_weights_flag=update_weights_flag,\n",
    "                        weight_clamp = weight_clamp, mu_clamp = mu_clamp,  pi_clamp = 42,\n",
    "                        device = device, do_pi = False,\n",
    "                        mode = 'mse')"
   ]
  },
  {
   "cell_type": "code",
   "execution_count": 9,
   "id": "530cbb69",
   "metadata": {},
   "outputs": [
    {
     "name": "stderr",
     "output_type": "stream",
     "text": [
      "Training...: 100%|██████████| 5/5 [13:14<00:00, 158.83s/it]\n"
     ]
    },
    {
     "data": {
      "image/png": "[encoded data removed]",
      "text/plain": [
       "<Figure size 1200x600 with 2 Axes>"
      ]
     },
     "metadata": {},
     "output_type": "display_data"
    }
   ],
   "source": [
    "# GPU burning\n",
    "losses, accs, test_accs = pcn.train_mse(model = model,\n",
    "                                        inputs_dataloader = train_dataloader_sensory, \n",
    "                                        outputs_dataloader = train_dataloader_motor,\n",
    "                                        test_inputs_dataloader = test_dataloader_sensory,\n",
    "                                        test_outputs_dataloader = test_dataloader_motor, \n",
    "                                        n_epochs = epochs)\n",
    "\n",
    "utils_pcn.plot_loss_accs(losses, accs, test_accs)"
   ]
  },
  {
   "cell_type": "code",
   "execution_count": 10,
   "id": "6a9be3d9",
   "metadata": {},
   "outputs": [
    {
     "ename": "RuntimeError",
     "evalue": "The size of tensor a (10) must match the size of tensor b (400) at non-singleton dimension 1",
     "output_type": "error",
     "traceback": [
      "\u001b[0;31m---------------------------------------------------------------------------\u001b[0m",
      "\u001b[0;31mRuntimeError\u001b[0m                              Traceback (most recent call last)",
      "\u001b[0;32m/tmp/ipykernel_541431/2014548182.py\u001b[0m in \u001b[0;36m<module>\u001b[0;34m\u001b[0m\n\u001b[1;32m      3\u001b[0m \u001b[0mlabels\u001b[0m \u001b[0;34m=\u001b[0m \u001b[0mtorch\u001b[0m\u001b[0;34m.\u001b[0m\u001b[0mrandint\u001b[0m\u001b[0;34m(\u001b[0m\u001b[0;36m10\u001b[0m\u001b[0;34m,\u001b[0m \u001b[0msize\u001b[0m \u001b[0;34m=\u001b[0m \u001b[0;34m(\u001b[0m\u001b[0mbatch_size\u001b[0m\u001b[0;34m,\u001b[0m\u001b[0;34m)\u001b[0m\u001b[0;34m,\u001b[0m \u001b[0mdevice\u001b[0m \u001b[0;34m=\u001b[0m \u001b[0mdevice\u001b[0m\u001b[0;34m)\u001b[0m\u001b[0;34m\u001b[0m\u001b[0;34m\u001b[0m\u001b[0m\n\u001b[1;32m      4\u001b[0m \u001b[0mone_hot_vectors\u001b[0m \u001b[0;34m=\u001b[0m \u001b[0mone_hot_matrix\u001b[0m\u001b[0;34m[\u001b[0m\u001b[0mlabels\u001b[0m\u001b[0;34m]\u001b[0m\u001b[0;34m\u001b[0m\u001b[0;34m\u001b[0m\u001b[0m\n\u001b[0;32m----> 5\u001b[0;31m gen_imgs = model.hard_generate(y = one_hot_vectors, \n\u001b[0m\u001b[1;32m      6\u001b[0m                             n_generative_steps = n_generative_steps) \n\u001b[1;32m      7\u001b[0m \u001b[0;34m\u001b[0m\u001b[0m\n",
      "\u001b[0;32m~/anaconda3/lib/python3.9/site-packages/torch/autograd/grad_mode.py\u001b[0m in \u001b[0;36mdecorate_context\u001b[0;34m(*args, **kwargs)\u001b[0m\n\u001b[1;32m     25\u001b[0m         \u001b[0;32mdef\u001b[0m \u001b[0mdecorate_context\u001b[0m\u001b[0;34m(\u001b[0m\u001b[0;34m*\u001b[0m\u001b[0margs\u001b[0m\u001b[0;34m,\u001b[0m \u001b[0;34m**\u001b[0m\u001b[0mkwargs\u001b[0m\u001b[0;34m)\u001b[0m\u001b[0;34m:\u001b[0m\u001b[0;34m\u001b[0m\u001b[0;34m\u001b[0m\u001b[0m\n\u001b[1;32m     26\u001b[0m             \u001b[0;32mwith\u001b[0m \u001b[0mself\u001b[0m\u001b[0;34m.\u001b[0m\u001b[0mclone\u001b[0m\u001b[0;34m(\u001b[0m\u001b[0;34m)\u001b[0m\u001b[0;34m:\u001b[0m\u001b[0;34m\u001b[0m\u001b[0;34m\u001b[0m\u001b[0m\n\u001b[0;32m---> 27\u001b[0;31m                 \u001b[0;32mreturn\u001b[0m \u001b[0mfunc\u001b[0m\u001b[0;34m(\u001b[0m\u001b[0;34m*\u001b[0m\u001b[0margs\u001b[0m\u001b[0;34m,\u001b[0m \u001b[0;34m**\u001b[0m\u001b[0mkwargs\u001b[0m\u001b[0;34m)\u001b[0m\u001b[0;34m\u001b[0m\u001b[0;34m\u001b[0m\u001b[0m\n\u001b[0m\u001b[1;32m     28\u001b[0m         \u001b[0;32mreturn\u001b[0m \u001b[0mcast\u001b[0m\u001b[0;34m(\u001b[0m\u001b[0mF\u001b[0m\u001b[0;34m,\u001b[0m \u001b[0mdecorate_context\u001b[0m\u001b[0;34m)\u001b[0m\u001b[0;34m\u001b[0m\u001b[0;34m\u001b[0m\u001b[0m\n\u001b[1;32m     29\u001b[0m \u001b[0;34m\u001b[0m\u001b[0m\n",
      "\u001b[0;32m/media/hugo/HDD Alpha/github-hdd/BrainDishSiMulator/notebooks/../code/models/pcn.py\u001b[0m in \u001b[0;36mhard_generate\u001b[0;34m(self, y, n_generative_steps)\u001b[0m\n\u001b[1;32m    194\u001b[0m             \u001b[0;31m# Propagate the activation down to the input layer\u001b[0m\u001b[0;34m\u001b[0m\u001b[0;34m\u001b[0m\u001b[0m\n\u001b[1;32m    195\u001b[0m             \u001b[0;32mfor\u001b[0m \u001b[0mi\u001b[0m \u001b[0;32min\u001b[0m \u001b[0mrange\u001b[0m\u001b[0;34m(\u001b[0m\u001b[0mself\u001b[0m\u001b[0;34m.\u001b[0m\u001b[0mL\u001b[0m \u001b[0;34m-\u001b[0m \u001b[0;36m1\u001b[0m\u001b[0;34m,\u001b[0m \u001b[0;34m-\u001b[0m\u001b[0;36m1\u001b[0m\u001b[0;34m,\u001b[0m \u001b[0;34m-\u001b[0m\u001b[0;36m1\u001b[0m\u001b[0;34m)\u001b[0m\u001b[0;34m:\u001b[0m\u001b[0;34m\u001b[0m\u001b[0;34m\u001b[0m\u001b[0m\n\u001b[0;32m--> 196\u001b[0;31m                 \u001b[0mself\u001b[0m\u001b[0;34m.\u001b[0m\u001b[0mmus\u001b[0m\u001b[0;34m[\u001b[0m\u001b[0mi\u001b[0m\u001b[0;34m]\u001b[0m \u001b[0;34m=\u001b[0m \u001b[0mself\u001b[0m\u001b[0;34m.\u001b[0m\u001b[0mlayers\u001b[0m\u001b[0;34m[\u001b[0m\u001b[0mi\u001b[0m\u001b[0;34m]\u001b[0m\u001b[0;34m.\u001b[0m\u001b[0mbackward\u001b[0m\u001b[0;34m(\u001b[0m\u001b[0mself\u001b[0m\u001b[0;34m.\u001b[0m\u001b[0mmus\u001b[0m\u001b[0;34m[\u001b[0m\u001b[0mi\u001b[0m \u001b[0;34m+\u001b[0m \u001b[0;36m1\u001b[0m\u001b[0;34m]\u001b[0m\u001b[0;34m)\u001b[0m\u001b[0;34m\u001b[0m\u001b[0;34m\u001b[0m\u001b[0m\n\u001b[0m\u001b[1;32m    197\u001b[0m \u001b[0;34m\u001b[0m\u001b[0m\n\u001b[1;32m    198\u001b[0m         \u001b[0;32mreturn\u001b[0m \u001b[0mself\u001b[0m\u001b[0;34m.\u001b[0m\u001b[0mmus\u001b[0m\u001b[0;34m[\u001b[0m\u001b[0;36m0\u001b[0m\u001b[0;34m]\u001b[0m\u001b[0;34m\u001b[0m\u001b[0;34m\u001b[0m\u001b[0m\n",
      "\u001b[0;32m/media/hugo/HDD Alpha/github-hdd/BrainDishSiMulator/notebooks/../code/models/pcn.py\u001b[0m in \u001b[0;36mbackward\u001b[0;34m(self, x)\u001b[0m\n\u001b[1;32m     46\u001b[0m     \u001b[0;32mdef\u001b[0m \u001b[0mbackward\u001b[0m\u001b[0;34m(\u001b[0m\u001b[0mself\u001b[0m\u001b[0;34m,\u001b[0m \u001b[0mx\u001b[0m\u001b[0;34m)\u001b[0m\u001b[0;34m:\u001b[0m\u001b[0;34m\u001b[0m\u001b[0;34m\u001b[0m\u001b[0m\n\u001b[1;32m     47\u001b[0m         \u001b[0mself\u001b[0m\u001b[0;34m.\u001b[0m\u001b[0mfn_deriv\u001b[0m \u001b[0;34m=\u001b[0m \u001b[0mself\u001b[0m\u001b[0;34m.\u001b[0m\u001b[0mdf\u001b[0m\u001b[0;34m(\u001b[0m\u001b[0mself\u001b[0m\u001b[0;34m.\u001b[0m\u001b[0mactivations\u001b[0m\u001b[0;34m)\u001b[0m\u001b[0;34m\u001b[0m\u001b[0;34m\u001b[0m\u001b[0m\n\u001b[0;32m---> 48\u001b[0;31m         \u001b[0mout\u001b[0m \u001b[0;34m=\u001b[0m \u001b[0mtorch\u001b[0m\u001b[0;34m.\u001b[0m\u001b[0mmatmul\u001b[0m\u001b[0;34m(\u001b[0m\u001b[0mx\u001b[0m \u001b[0;34m*\u001b[0m \u001b[0mself\u001b[0m\u001b[0;34m.\u001b[0m\u001b[0mfn_deriv\u001b[0m\u001b[0;34m,\u001b[0m \u001b[0mself\u001b[0m\u001b[0;34m.\u001b[0m\u001b[0mweights\u001b[0m\u001b[0;34m.\u001b[0m\u001b[0mT\u001b[0m\u001b[0;34m)\u001b[0m\u001b[0;34m\u001b[0m\u001b[0;34m\u001b[0m\u001b[0m\n\u001b[0m\u001b[1;32m     49\u001b[0m         \u001b[0;32mreturn\u001b[0m \u001b[0mout\u001b[0m\u001b[0;34m\u001b[0m\u001b[0;34m\u001b[0m\u001b[0m\n\u001b[1;32m     50\u001b[0m \u001b[0;34m\u001b[0m\u001b[0m\n",
      "\u001b[0;31mRuntimeError\u001b[0m: The size of tensor a (10) must match the size of tensor b (400) at non-singleton dimension 1"
     ]
    }
   ],
   "source": [
    "# Generative mode\n",
    "gen_firing_rates = model.hard_generate(y=torch.randn_like(torch.empty(batch_size, 400), device=device), \n",
    "                                    n_generative_steps=n_generative_steps)\n",
    "\n",
    "# Visualization\n",
    "# Here I am assuming your gen_firing_rates are reshaped correctly for visualization.\n",
    "fig, axs = plt.subplots(figsize=(10,10), ncols=int(np.sqrt(batch_size)), nrows=int(np.sqrt(batch_size)))\n",
    "cols = plt.cm.viridis(np.linspace(0, 1, batch_size))\n",
    "for iax, ax in enumerate(axs.flatten()):\n",
    "    ax.plot(gen_firing_rates[iax].cpu().detach().numpy(), c=cols[iax])\n",
    "    ax.axis('off')\n",
    "plt.show()"
   ]
  }
 ],
 "metadata": {
  "kernelspec": {
   "display_name": "base",
   "language": "python",
   "name": "python3"
  },
  "language_info": {
   "codemirror_mode": {
    "name": "ipython",
    "version": 3
   },
   "file_extension": ".py",
   "mimetype": "text/x-python",
   "name": "python",
   "nbconvert_exporter": "python",
   "pygments_lexer": "ipython3",
   "version": "3.9.13"
  },
  "vscode": {
   "interpreter": {
    "hash": "bc48b7f97eeefcfa973ac84946cdeb32dcd8538d584fc23cdbd11e050afa8c03"
   }
  }
 },
 "nbformat": 4,
 "nbformat_minor": 5
}
